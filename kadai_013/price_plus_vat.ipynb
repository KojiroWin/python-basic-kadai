{
  "nbformat": 4,
  "nbformat_minor": 0,
  "metadata": {
    "colab": {
      "provenance": []
    },
    "kernelspec": {
      "name": "python3",
      "display_name": "Python 3"
    },
    "language_info": {
      "name": "python"
    }
  },
  "cells": [
    {
      "cell_type": "code",
      "execution_count": 16,
      "metadata": {
        "colab": {
          "base_uri": "https://localhost:8080/"
        },
        "id": "nOH6uUfWR1Qw",
        "outputId": "e11cb316-9fdb-454e-8194-ac3495fd624e"
      },
      "outputs": [
        {
          "output_type": "stream",
          "name": "stdout",
          "text": [
            "税抜き価格：818582\n",
            "消費税：10.0％\n",
            "税込み価格：900440.2000000001\n"
          ]
        }
      ],
      "source": [
        "#ランダムな整数を利用するために、randomモジュールをインポート\n",
        "import random\n",
        "\n",
        "# 商品を購入して、消費税を加えた計算結果を返す関数\n",
        "# 第1引数に商品の金額、第2引数に消費税を設定\n",
        "def add_vat(price, vat):\n",
        "    return price * (1 + vat)\n",
        "\n",
        "# 変数priceに100～1000000までのランダムな整数を代入する\n",
        "price = random.randint(100, 1000000)\n",
        "print(f\"税抜き価格：{price}\")\n",
        "\n",
        "# 消費税率を変数vatに0.1（10%）を設定\n",
        "vat = 0.1\n",
        "print(f\"消費税：{vat*100}％\")\n",
        "\n",
        "# 関数を呼び出す\n",
        "result = add_vat(price, vat)\n",
        "print(f\"税込み価格：{result}\")"
      ]
    }
  ]
}