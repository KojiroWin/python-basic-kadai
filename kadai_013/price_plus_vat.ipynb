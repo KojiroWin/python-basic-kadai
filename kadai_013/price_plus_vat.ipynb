{
  "nbformat": 4,
  "nbformat_minor": 0,
  "metadata": {
    "colab": {
      "provenance": []
    },
    "kernelspec": {
      "name": "python3",
      "display_name": "Python 3"
    },
    "language_info": {
      "name": "python"
    }
  },
  "cells": [
    {
      "cell_type": "code",
      "execution_count": 15,
      "metadata": {
        "colab": {
          "base_uri": "https://localhost:8080/"
        },
        "id": "nOH6uUfWR1Qw",
        "outputId": "6311d5c5-6bad-4ab2-cb87-c3443c22d516"
      },
      "outputs": [
        {
          "output_type": "stream",
          "name": "stdout",
          "text": [
            "税抜き価格：160840\n",
            "消費税：10.0％\n",
            "税込み価格：176924.0\n"
          ]
        }
      ],
      "source": [
        "#ランダムな整数を利用するために、randomモジュールをインポート\n",
        "import random\n",
        "\n",
        "# 商品を購入して、消費税を加えた計算結果を返す関数\n",
        "# 第1引数に商品の金額、第2引数に消費税（10%）を設定\n",
        "def add_vat(price, vat):\n",
        "    # 消費税を加えた価格を返す\n",
        "    return price * (1 + vat)\n",
        "\n",
        "# 変数priceに100～1000000までのランダムな整数を代入する\n",
        "price = random.randint(100, 1000000)\n",
        "print(f\"税抜き価格：{price}\")\n",
        "\n",
        "# 消費税率を変数vatに0.1（10%）を設定\n",
        "vat = 0.1\n",
        "print(f\"消費税：{vat*100}％\")\n",
        "\n",
        "# 関数を呼び出す\n",
        "result = add_vat(price, vat)\n",
        "print(f\"税込み価格：{result}\")"
      ]
    }
  ]
}