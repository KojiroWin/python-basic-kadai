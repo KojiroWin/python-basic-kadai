{
  "nbformat": 4,
  "nbformat_minor": 0,
  "metadata": {
    "colab": {
      "provenance": []
    },
    "kernelspec": {
      "name": "python3",
      "display_name": "Python 3"
    },
    "language_info": {
      "name": "python"
    }
  },
  "cells": [
    {
      "cell_type": "code",
      "source": [],
      "metadata": {
        "id": "U8lPIYX7eydf"
      },
      "execution_count": null,
      "outputs": []
    },
    {
      "cell_type": "code",
      "source": [
        "list = {}   # Humanクラスインスタンスのリスト\n",
        "class Human:\n",
        "    def __init__(self, name, age):\n",
        "      self.name = name\n",
        "      self.age = age\n",
        "\n",
        "    def check_adult(self):\n",
        "        if self.age >= 20:\n",
        "            print(f\"{self.name}：大人\")\n",
        "        else:\n",
        "            print(f\"{self.name}：未成年\")\n",
        "\n",
        "list[0] = Human(\"侍花子\", 19)\n",
        "list[1] = Human(\"侍太郎\", 20)\n",
        "list[2] = Human(\"侍桃太郎\", 21)\n",
        "\n",
        "for i in range(0,3):\n",
        "  list[i].check_adult()\n",
        "\n",
        ""
      ],
      "metadata": {
        "colab": {
          "base_uri": "https://localhost:8080/"
        },
        "id": "krqLumAPO585",
        "outputId": "26ed1a80-66f6-4629-83ac-c4c0a2be909c"
      },
      "execution_count": 19,
      "outputs": [
        {
          "output_type": "stream",
          "name": "stdout",
          "text": [
            "侍花子：未成年\n",
            "侍太郎：大人\n",
            "侍桃太郎：大人\n"
          ]
        }
      ]
    }
  ]
}