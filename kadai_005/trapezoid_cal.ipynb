{
  "nbformat": 4,
  "nbformat_minor": 0,
  "metadata": {
    "colab": {
      "provenance": []
    },
    "kernelspec": {
      "name": "python3",
      "display_name": "Python 3"
    },
    "language_info": {
      "name": "python"
    }
  },
  "cells": [
    {
      "cell_type": "code",
      "execution_count": 28,
      "metadata": {
        "colab": {
          "base_uri": "https://localhost:8080/"
        },
        "id": "5TlHlDSlIbBk",
        "outputId": "acafc5f5-3f1c-45f0-b559-44f24c3c627e"
      },
      "outputs": [
        {
          "output_type": "stream",
          "name": "stdout",
          "text": [
            "75.0 cm²\n"
          ]
        }
      ],
      "source": [
        "upper_side_len = 10\n",
        "lower_side_len = 20\n",
        "height = 5\n",
        "\n",
        "size_of_trapezoid = (upper_side_len + lower_side_len) * height / 2\n",
        "print(f\"{size_of_trapezoid} cm²\")"
      ]
    }
  ]
}