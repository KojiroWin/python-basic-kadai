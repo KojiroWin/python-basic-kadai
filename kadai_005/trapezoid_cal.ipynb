{
  "nbformat": 4,
  "nbformat_minor": 0,
  "metadata": {
    "colab": {
      "provenance": []
    },
    "kernelspec": {
      "name": "python3",
      "display_name": "Python 3"
    },
    "language_info": {
      "name": "python"
    }
  },
  "cells": [
    {
      "cell_type": "code",
      "execution_count": 8,
      "metadata": {
        "colab": {
          "base_uri": "https://localhost:8080/"
        },
        "id": "5TlHlDSlIbBk",
        "outputId": "6cce1349-63e7-471d-c4bd-78a077e0a3d4"
      },
      "outputs": [
        {
          "output_type": "stream",
          "name": "stdout",
          "text": [
            "75.0\n"
          ]
        }
      ],
      "source": [
        "upper_side_len = 10\n",
        "lower_side_len = 20\n",
        "height = 5\n",
        "\n",
        "size_of_trapezoid = (upper_side_len + lower_side_len) * height / 2\n",
        "print(size_of_trapezoid)"
      ]
    }
  ]
}