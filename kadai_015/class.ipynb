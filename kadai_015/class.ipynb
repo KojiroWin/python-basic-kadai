{
  "nbformat": 4,
  "nbformat_minor": 0,
  "metadata": {
    "colab": {
      "provenance": []
    },
    "kernelspec": {
      "name": "python3",
      "display_name": "Python 3"
    },
    "language_info": {
      "name": "python"
    }
  },
  "cells": [
    {
      "cell_type": "code",
      "execution_count": 18,
      "metadata": {
        "colab": {
          "base_uri": "https://localhost:8080/"
        },
        "id": "uffuPWOqYXZG",
        "outputId": "603dfb87-df7c-4583-e976-0cb38c4d616c"
      },
      "outputs": [
        {
          "output_type": "stream",
          "name": "stdout",
          "text": [
            "name:侍花子, age:20\n"
          ]
        }
      ],
      "source": [
        "class Human:\n",
        "    def __init__(self, name, age):\n",
        "      self.name = name\n",
        "      self.age = age\n",
        "\n",
        "    # メソッドを定義する\n",
        "    def printinfo(self):\n",
        "        print(f\"name:{self.name}, age:{self.age}\")\n",
        "\n",
        "hogehoge = Human(\"侍花子\", 20)\n",
        "\n",
        "# 属性にアクセスし、値を出力する\n",
        "hogehoge.printinfo()"
      ]
    }
  ]
}