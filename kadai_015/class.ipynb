{
  "nbformat": 4,
  "nbformat_minor": 0,
  "metadata": {
    "colab": {
      "provenance": []
    },
    "kernelspec": {
      "name": "python3",
      "display_name": "Python 3"
    },
    "language_info": {
      "name": "python"
    }
  },
  "cells": [
    {
      "cell_type": "code",
      "execution_count": 6,
      "metadata": {
        "colab": {
          "base_uri": "https://localhost:8080/"
        },
        "id": "uffuPWOqYXZG",
        "outputId": "6140cc25-c1b9-48cb-89ba-0246058ee91c"
      },
      "outputs": [
        {
          "output_type": "stream",
          "name": "stdout",
          "text": [
            "name:侍花子, age:20\n"
          ]
        }
      ],
      "source": [
        "class Human:\n",
        "    def __init__(self):\n",
        "        self.name = \"\"\n",
        "        self.age = \"\"\n",
        "\n",
        "    # メソッドを定義する\n",
        "    def printinfo(self, name, age):\n",
        "        print(f\"name:{self.name}, age:{self.age}\")\n",
        "\n",
        "hogehoge = Human()\n",
        "hogehoge.name = \"侍花子\"\n",
        "hogehoge.age = \"20\"\n",
        "\n",
        "# 属性にアクセスし、値を出力する\n",
        "hogehoge.printinfo(hogehoge.name, hogehoge.age)"
      ]
    }
  ]
}